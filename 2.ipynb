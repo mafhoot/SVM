{
 "cells": [
  {
   "cell_type": "code",
   "execution_count": 5,
   "metadata": {},
   "outputs": [],
   "source": [
    "import numpy as np\n",
    "import matplotlib.pyplot as plt\n",
    "from matplotlib.image import imread\n",
    "from PIL import Image as im\n",
    "import numpy as np\n",
    "from sklearn.svm import SVC\n",
    "from sklearn.datasets._samples_generator import make_blobs\n",
    "import os\n",
    "from PIL import Image"
   ]
  },
  {
   "cell_type": "code",
   "execution_count": 6,
   "metadata": {},
   "outputs": [],
   "source": [
    "# Set the directory containing the images\n",
    "train_directory = \"../SVM/images/train\"\n",
    "test_directory = \"../SVM/images/test\"\n",
    "\n",
    "\n",
    "# Create an empty list to store the image arrays\n",
    "x_train = []\n",
    "x_test = []"
   ]
  },
  {
   "cell_type": "code",
   "execution_count": 7,
   "metadata": {},
   "outputs": [],
   "source": [
    "# Loop through each image file in the directory\n",
    "for filename in os.listdir(train_directory):\n",
    "    # Load the image using PIL\n",
    "    train_image = Image.open(os.path.join(train_directory, filename))\n",
    "\n",
    "    # Convert the image to a NumPy array\n",
    "    train_image_array = np.array(train_image)\n",
    "\n",
    "    # Flatten the image array into a 256 element array\n",
    "    train_image_array = train_image_array.reshape(256)\n",
    "\n",
    "    # Add the image array to the list\n",
    "    x_train.append(train_image_array)"
   ]
  },
  {
   "cell_type": "code",
   "execution_count": 8,
   "metadata": {},
   "outputs": [],
   "source": [
    "for filename in os.listdir(test_directory):\n",
    "    # Load the image using PIL\n",
    "    test_image = Image.open(os.path.join(test_directory, filename))\n",
    "\n",
    "    # Convert the image to a NumPy array\n",
    "    test_image_array = np.array(test_image)\n",
    "\n",
    "    # Flatten the image array into a 256 element array\n",
    "    test_image_array = test_image_array.reshape(256)\n",
    "\n",
    "    # Add the image array to the list\n",
    "    x_test.append(test_image_array)"
   ]
  },
  {
   "cell_type": "code",
   "execution_count": 9,
   "metadata": {},
   "outputs": [
    {
     "data": {
      "text/plain": [
       "array([  0,   0,   0,   3,   7,   0,   0,  16, 135, 233, 246,  49,   4,\n",
       "         0,   7,   0,   6,   5,   0,   3,   0,   0,  67, 243, 250, 255,\n",
       "       253, 230,  32,   0,   0,   5,   0,   0,  20,   7,  15, 158, 255,\n",
       "       241, 255, 242, 226, 252,  47,   4,  16,   0,   0,  11,   0,   0,\n",
       "       203, 231, 233, 253, 251, 255, 251, 255, 117,   0,   0,   0,   0,\n",
       "        13,   8,  70, 232, 255, 235, 112,  47, 178, 253, 242, 131,  11,\n",
       "        10,   0,   3,   0,   4, 198, 255, 255, 149,   3,  14,  44, 237,\n",
       "       255, 216,   0,   0,   4,   2,   2,  55, 253, 243, 233,  79,   8,\n",
       "         2,   0, 243, 229, 247,  26,  19,   0,   0,  16, 110, 255, 249,\n",
       "       255,  66,   0,   0,  10, 243, 253, 252,  75,   0,   4,   6,   0,\n",
       "        89, 255, 240, 249,  52,   0,   2,  11, 187, 253, 254,  53,   9,\n",
       "         3,   0,   3,  34, 243, 241, 254,  95,  21,   0,   0, 155, 255,\n",
       "       241,  55,   0,   0,   0,  20,   0, 167, 251, 250, 206,   0,   8,\n",
       "         0, 162, 255, 227,  54,  17,   0,   4,   0,   0,  81, 248, 239,\n",
       "       255, 122,   0,  13,  84, 225, 255, 115,   0,   0,   7,   0,   9,\n",
       "         0, 189, 255, 238, 236, 175,  71, 211, 255, 255,   0,   2,   8,\n",
       "         0,  25,   0,   9,  17, 229, 249, 251, 241, 246, 254, 246, 127,\n",
       "        19,   8,   0,   2,   0,  14,   0,   2,  10, 229, 254, 249, 255,\n",
       "       247, 242,  75,   0,   0,   2,   0,   6,   0,   0,   4,   6,  16,\n",
       "       100, 129, 241, 130,   6,   0,  12,   5,   0], dtype=uint8)"
      ]
     },
     "execution_count": 9,
     "metadata": {},
     "output_type": "execute_result"
    }
   ],
   "source": [
    "# Convert the list of image arrays to a NumPy array\n",
    "x_train = np.array(x_train)\n",
    "x_test = np.array(x_test)\n",
    "\n",
    "x_train[1]"
   ]
  },
  {
   "cell_type": "code",
   "execution_count": 10,
   "metadata": {},
   "outputs": [
    {
     "data": {
      "text/plain": [
       "array([0, 0, 0, ..., 9, 9, 9])"
      ]
     },
     "execution_count": 10,
     "metadata": {},
     "output_type": "execute_result"
    }
   ],
   "source": [
    "train_files = os.listdir(train_directory)\n",
    "y_train = []\n",
    "for i, file_name in enumerate(train_files):\n",
    "    y_train.append(int(file_name[0]))\n",
    "\n",
    "y_train = np.array(y_train)\n",
    "y_train"
   ]
  },
  {
   "cell_type": "code",
   "execution_count": 11,
   "metadata": {},
   "outputs": [],
   "source": [
    "test_files = os.listdir(test_directory)\n",
    "y_test = []\n",
    "for i, file_name in enumerate(test_files):\n",
    "    y_test.append(int(file_name[0]))\n",
    "\n",
    "y_test = np.array(y_test)"
   ]
  },
  {
   "cell_type": "code",
   "execution_count": 12,
   "metadata": {},
   "outputs": [
    {
     "data": {
      "text/html": [
       "<style>#sk-container-id-1 {color: black;background-color: white;}#sk-container-id-1 pre{padding: 0;}#sk-container-id-1 div.sk-toggleable {background-color: white;}#sk-container-id-1 label.sk-toggleable__label {cursor: pointer;display: block;width: 100%;margin-bottom: 0;padding: 0.3em;box-sizing: border-box;text-align: center;}#sk-container-id-1 label.sk-toggleable__label-arrow:before {content: \"▸\";float: left;margin-right: 0.25em;color: #696969;}#sk-container-id-1 label.sk-toggleable__label-arrow:hover:before {color: black;}#sk-container-id-1 div.sk-estimator:hover label.sk-toggleable__label-arrow:before {color: black;}#sk-container-id-1 div.sk-toggleable__content {max-height: 0;max-width: 0;overflow: hidden;text-align: left;background-color: #f0f8ff;}#sk-container-id-1 div.sk-toggleable__content pre {margin: 0.2em;color: black;border-radius: 0.25em;background-color: #f0f8ff;}#sk-container-id-1 input.sk-toggleable__control:checked~div.sk-toggleable__content {max-height: 200px;max-width: 100%;overflow: auto;}#sk-container-id-1 input.sk-toggleable__control:checked~label.sk-toggleable__label-arrow:before {content: \"▾\";}#sk-container-id-1 div.sk-estimator input.sk-toggleable__control:checked~label.sk-toggleable__label {background-color: #d4ebff;}#sk-container-id-1 div.sk-label input.sk-toggleable__control:checked~label.sk-toggleable__label {background-color: #d4ebff;}#sk-container-id-1 input.sk-hidden--visually {border: 0;clip: rect(1px 1px 1px 1px);clip: rect(1px, 1px, 1px, 1px);height: 1px;margin: -1px;overflow: hidden;padding: 0;position: absolute;width: 1px;}#sk-container-id-1 div.sk-estimator {font-family: monospace;background-color: #f0f8ff;border: 1px dotted black;border-radius: 0.25em;box-sizing: border-box;margin-bottom: 0.5em;}#sk-container-id-1 div.sk-estimator:hover {background-color: #d4ebff;}#sk-container-id-1 div.sk-parallel-item::after {content: \"\";width: 100%;border-bottom: 1px solid gray;flex-grow: 1;}#sk-container-id-1 div.sk-label:hover label.sk-toggleable__label {background-color: #d4ebff;}#sk-container-id-1 div.sk-serial::before {content: \"\";position: absolute;border-left: 1px solid gray;box-sizing: border-box;top: 0;bottom: 0;left: 50%;z-index: 0;}#sk-container-id-1 div.sk-serial {display: flex;flex-direction: column;align-items: center;background-color: white;padding-right: 0.2em;padding-left: 0.2em;position: relative;}#sk-container-id-1 div.sk-item {position: relative;z-index: 1;}#sk-container-id-1 div.sk-parallel {display: flex;align-items: stretch;justify-content: center;background-color: white;position: relative;}#sk-container-id-1 div.sk-item::before, #sk-container-id-1 div.sk-parallel-item::before {content: \"\";position: absolute;border-left: 1px solid gray;box-sizing: border-box;top: 0;bottom: 0;left: 50%;z-index: -1;}#sk-container-id-1 div.sk-parallel-item {display: flex;flex-direction: column;z-index: 1;position: relative;background-color: white;}#sk-container-id-1 div.sk-parallel-item:first-child::after {align-self: flex-end;width: 50%;}#sk-container-id-1 div.sk-parallel-item:last-child::after {align-self: flex-start;width: 50%;}#sk-container-id-1 div.sk-parallel-item:only-child::after {width: 0;}#sk-container-id-1 div.sk-dashed-wrapped {border: 1px dashed gray;margin: 0 0.4em 0.5em 0.4em;box-sizing: border-box;padding-bottom: 0.4em;background-color: white;}#sk-container-id-1 div.sk-label label {font-family: monospace;font-weight: bold;display: inline-block;line-height: 1.2em;}#sk-container-id-1 div.sk-label-container {text-align: center;}#sk-container-id-1 div.sk-container {/* jupyter's `normalize.less` sets `[hidden] { display: none; }` but bootstrap.min.css set `[hidden] { display: none !important; }` so we also need the `!important` here to be able to override the default hidden behavior on the sphinx rendered scikit-learn.org. See: https://github.com/scikit-learn/scikit-learn/issues/21755 */display: inline-block !important;position: relative;}#sk-container-id-1 div.sk-text-repr-fallback {display: none;}</style><div id=\"sk-container-id-1\" class=\"sk-top-container\"><div class=\"sk-text-repr-fallback\"><pre>SVC(C=100, kernel=&#x27;linear&#x27;)</pre><b>In a Jupyter environment, please rerun this cell to show the HTML representation or trust the notebook. <br />On GitHub, the HTML representation is unable to render, please try loading this page with nbviewer.org.</b></div><div class=\"sk-container\" hidden><div class=\"sk-item\"><div class=\"sk-estimator sk-toggleable\"><input class=\"sk-toggleable__control sk-hidden--visually\" id=\"sk-estimator-id-1\" type=\"checkbox\" checked><label for=\"sk-estimator-id-1\" class=\"sk-toggleable__label sk-toggleable__label-arrow\">SVC</label><div class=\"sk-toggleable__content\"><pre>SVC(C=100, kernel=&#x27;linear&#x27;)</pre></div></div></div></div></div>"
      ],
      "text/plain": [
       "SVC(C=100, kernel='linear')"
      ]
     },
     "execution_count": 12,
     "metadata": {},
     "output_type": "execute_result"
    }
   ],
   "source": [
    "svm = SVC(kernel='linear' , C=100)\n",
    "svm.fit(x_train, y_train)"
   ]
  },
  {
   "cell_type": "code",
   "execution_count": 13,
   "metadata": {},
   "outputs": [
    {
     "data": {
      "text/plain": [
       "92.67563527653215"
      ]
     },
     "execution_count": 13,
     "metadata": {},
     "output_type": "execute_result"
    }
   ],
   "source": [
    "# test the model on the test set\n",
    "y_pred = svm.predict(x_test)\n",
    "threshold = 0\n",
    "correct_predictions = np.sum(np.abs(y_pred - y_test) == threshold)\n",
    "total_predictions = len(y_test)\n",
    "percentage_correct = correct_predictions / total_predictions * 100\n",
    "percentage_correct"
   ]
  }
 ],
 "metadata": {
  "kernelspec": {
   "display_name": "Python 3",
   "language": "python",
   "name": "python3"
  },
  "language_info": {
   "codemirror_mode": {
    "name": "ipython",
    "version": 3
   },
   "file_extension": ".py",
   "mimetype": "text/x-python",
   "name": "python",
   "nbconvert_exporter": "python",
   "pygments_lexer": "ipython3",
   "version": "3.10.7"
  },
  "orig_nbformat": 4
 },
 "nbformat": 4,
 "nbformat_minor": 2
}
