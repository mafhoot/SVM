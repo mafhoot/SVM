{
 "cells": [
  {
   "cell_type": "code",
   "execution_count": 80,
   "metadata": {},
   "outputs": [],
   "source": [
    "import numpy as np\n",
    "from PIL import Image as im\n",
    "import numpy as np\n",
    "from sklearn.svm import SVC\n",
    "import os\n",
    "from PIL import Image\n",
    "from sklearn.model_selection import KFold\n",
    "from sklearn import svm, metrics\n",
    "from sklearn.model_selection import cross_val_score\n",
    "\n"
   ]
  },
  {
   "cell_type": "code",
   "execution_count": 81,
   "metadata": {},
   "outputs": [],
   "source": [
    "# Set the directory containing the images\n",
    "train_directory = \"../SVM/images/train\"\n",
    "test_directory = \"../SVM/images/test\"\n",
    "\n",
    "\n",
    "# Create an empty list to store the image arrays\n",
    "x_train = []\n",
    "x_test = []"
   ]
  },
  {
   "cell_type": "code",
   "execution_count": 82,
   "metadata": {},
   "outputs": [],
   "source": [
    "# Loop through each image file in the directory\n",
    "for filename in os.listdir(train_directory):\n",
    "    # Load the image using PIL\n",
    "    train_image = Image.open(os.path.join(train_directory, filename))\n",
    "\n",
    "    # Convert the image to a NumPy array\n",
    "    train_image_array = np.array(train_image)\n",
    "\n",
    "    # Flatten the image array into a 256 element array\n",
    "    train_image_array = train_image_array.reshape(256)\n",
    "\n",
    "    # Add the image array to the list\n",
    "    x_train.append(train_image_array)"
   ]
  },
  {
   "cell_type": "code",
   "execution_count": 83,
   "metadata": {},
   "outputs": [],
   "source": [
    "for filename in os.listdir(test_directory):\n",
    "    # Load the image using PIL\n",
    "    test_image = Image.open(os.path.join(test_directory, filename))\n",
    "\n",
    "    # Convert the image to a NumPy array\n",
    "    test_image_array = np.array(test_image)\n",
    "\n",
    "    # Flatten the image array into a 256 element array\n",
    "    test_image_array = test_image_array.reshape(256)\n",
    "\n",
    "    # Add the image array to the list\n",
    "    x_test.append(test_image_array)"
   ]
  },
  {
   "cell_type": "code",
   "execution_count": 84,
   "metadata": {},
   "outputs": [
    {
     "data": {
      "text/plain": [
       "array([  0,   0,   0,   3,   7,   0,   0,  16, 135, 233, 246,  49,   4,\n",
       "         0,   7,   0,   6,   5,   0,   3,   0,   0,  67, 243, 250, 255,\n",
       "       253, 230,  32,   0,   0,   5,   0,   0,  20,   7,  15, 158, 255,\n",
       "       241, 255, 242, 226, 252,  47,   4,  16,   0,   0,  11,   0,   0,\n",
       "       203, 231, 233, 253, 251, 255, 251, 255, 117,   0,   0,   0,   0,\n",
       "        13,   8,  70, 232, 255, 235, 112,  47, 178, 253, 242, 131,  11,\n",
       "        10,   0,   3,   0,   4, 198, 255, 255, 149,   3,  14,  44, 237,\n",
       "       255, 216,   0,   0,   4,   2,   2,  55, 253, 243, 233,  79,   8,\n",
       "         2,   0, 243, 229, 247,  26,  19,   0,   0,  16, 110, 255, 249,\n",
       "       255,  66,   0,   0,  10, 243, 253, 252,  75,   0,   4,   6,   0,\n",
       "        89, 255, 240, 249,  52,   0,   2,  11, 187, 253, 254,  53,   9,\n",
       "         3,   0,   3,  34, 243, 241, 254,  95,  21,   0,   0, 155, 255,\n",
       "       241,  55,   0,   0,   0,  20,   0, 167, 251, 250, 206,   0,   8,\n",
       "         0, 162, 255, 227,  54,  17,   0,   4,   0,   0,  81, 248, 239,\n",
       "       255, 122,   0,  13,  84, 225, 255, 115,   0,   0,   7,   0,   9,\n",
       "         0, 189, 255, 238, 236, 175,  71, 211, 255, 255,   0,   2,   8,\n",
       "         0,  25,   0,   9,  17, 229, 249, 251, 241, 246, 254, 246, 127,\n",
       "        19,   8,   0,   2,   0,  14,   0,   2,  10, 229, 254, 249, 255,\n",
       "       247, 242,  75,   0,   0,   2,   0,   6,   0,   0,   4,   6,  16,\n",
       "       100, 129, 241, 130,   6,   0,  12,   5,   0], dtype=uint8)"
      ]
     },
     "execution_count": 84,
     "metadata": {},
     "output_type": "execute_result"
    }
   ],
   "source": [
    "# Convert the list of image arrays to a NumPy array\n",
    "x_train = np.array(x_train)\n",
    "x_test = np.array(x_test)\n",
    "\n",
    "x_train[1]"
   ]
  },
  {
   "cell_type": "code",
   "execution_count": 85,
   "metadata": {},
   "outputs": [
    {
     "data": {
      "text/plain": [
       "array([0, 0, 0, ..., 9, 9, 9])"
      ]
     },
     "execution_count": 85,
     "metadata": {},
     "output_type": "execute_result"
    }
   ],
   "source": [
    "train_files = os.listdir(train_directory)\n",
    "y_train = []\n",
    "for i, file_name in enumerate(train_files):\n",
    "    y_train.append(int(file_name[0]))\n",
    "\n",
    "y_train = np.array(y_train)\n",
    "y_train"
   ]
  },
  {
   "cell_type": "code",
   "execution_count": 86,
   "metadata": {},
   "outputs": [],
   "source": [
    "test_files = os.listdir(test_directory)\n",
    "y_test = []\n",
    "for i, file_name in enumerate(test_files):\n",
    "    y_test.append(int(file_name[0]))\n",
    "\n",
    "y_test = np.array(y_test)"
   ]
  },
  {
   "cell_type": "code",
   "execution_count": 87,
   "metadata": {},
   "outputs": [
    {
     "data": {
      "text/plain": [
       "[0.9588759424263193,\n",
       " 0.958161865569273,\n",
       " 0.9574759945130316,\n",
       " 0.9499314128943759,\n",
       " 0.9561042524005487]"
      ]
     },
     "execution_count": 87,
     "metadata": {},
     "output_type": "execute_result"
    }
   ],
   "source": [
    "\n",
    "# Perform 5-fold cross-validation with SVM\n",
    "kf = KFold(n_splits=5, shuffle=True, random_state=42)\n",
    "scores = []\n",
    "for train_index, test_index in kf.split(x_train):\n",
    "    X_train, X_test = x_train[train_index], x_train[test_index]\n",
    "    Y_train, Y_test = y_train[train_index], y_train[test_index]\n",
    "    model = svm.SVC(kernel='linear', C=1)\n",
    "    model.fit(X_train, Y_train)\n",
    "    y_pred = model.predict(X_test)\n",
    "    scores.append(metrics.accuracy_score(Y_test, y_pred))\n",
    "\n",
    "\n",
    "\n",
    "# Compute mean and standard deviation of cross-validation scores\n",
    "mean_score = np.mean(scores)\n",
    "std_score = np.std(scores)\n",
    "\n",
    "scores\n"
   ]
  },
  {
   "attachments": {},
   "cell_type": "markdown",
   "metadata": {},
   "source": [
    "Linear"
   ]
  },
  {
   "cell_type": "code",
   "execution_count": 88,
   "metadata": {},
   "outputs": [
    {
     "name": "stdout",
     "output_type": "stream",
     "text": [
      "Accuracy: 0.9262580966616841\n",
      "Cross validation accuracy: 95.36% (+/- 0.74%)\n"
     ]
    }
   ],
   "source": [
    "svm = SVC(kernel='linear' , C=100)\n",
    "svm.fit(x_train, y_train)\n",
    "y_pred1 = model.predict(x_test)\n",
    "accuracy1 = np.mean(y_pred1 == y_test)\n",
    "print(\"Accuracy:\", accuracy1)\n",
    "scores = cross_val_score(svm, x_train, y_train, cv=5)\n",
    "print(\"Cross validation accuracy: %0.2f%% (+/- %0.2f%%)\" % (scores.mean() * 100, scores.std() * 2 * 100))"
   ]
  },
  {
   "attachments": {},
   "cell_type": "markdown",
   "metadata": {},
   "source": [
    "Sigmoid"
   ]
  },
  {
   "cell_type": "code",
   "execution_count": 89,
   "metadata": {},
   "outputs": [
    {
     "name": "stdout",
     "output_type": "stream",
     "text": [
      "Accuracy: 0.6895864474339811\n",
      "Cross validation accuracy: 74.87% (+/- 1.87%)\n"
     ]
    }
   ],
   "source": [
    "svm = SVC(kernel='sigmoid' , C=100)\n",
    "svm.fit(x_train, y_train)\n",
    "y_pred = svm.predict(x_test)\n",
    "accuracy2 = np.mean(y_pred == y_test)\n",
    "print(\"Accuracy:\", accuracy2)\n",
    "scores = cross_val_score(svm, x_train, y_train, cv=5)\n",
    "print(\"Cross validation accuracy: %0.2f%% (+/- %0.2f%%)\" % (scores.mean() * 100, scores.std() * 2 * 100))"
   ]
  },
  {
   "attachments": {},
   "cell_type": "markdown",
   "metadata": {},
   "source": [
    "Polynomial"
   ]
  },
  {
   "cell_type": "code",
   "execution_count": 90,
   "metadata": {},
   "outputs": [
    {
     "name": "stdout",
     "output_type": "stream",
     "text": [
      "Accuracy: 0.9417040358744395\n",
      "Cross validation accuracy: 96.61% (+/- 0.91%)\n"
     ]
    }
   ],
   "source": [
    "svm = SVC(kernel='poly' , C=100)\n",
    "svm.fit(x_train, y_train)\n",
    "y_pred = svm.predict(x_test)\n",
    "accuracy3 = np.mean(y_pred == y_test)\n",
    "print(\"Accuracy:\", accuracy3)\n",
    "scores = cross_val_score(svm, x_train, y_train, cv=5)\n",
    "print(\"Cross validation accuracy: %0.2f%% (+/- %0.2f%%)\" % (scores.mean() * 100, scores.std() * 2 * 100))"
   ]
  },
  {
   "attachments": {},
   "cell_type": "markdown",
   "metadata": {},
   "source": [
    "Radial basic function"
   ]
  },
  {
   "cell_type": "code",
   "execution_count": 91,
   "metadata": {},
   "outputs": [
    {
     "name": "stdout",
     "output_type": "stream",
     "text": [
      "Accuracy: 0.9551569506726457\n",
      "Cross validation accuracy: 97.92% (+/- 0.72%)\n"
     ]
    }
   ],
   "source": [
    "svm = SVC(kernel='rbf' , C=100)\n",
    "svm.fit(x_train, y_train)\n",
    "y_pred = svm.predict(x_test)\n",
    "accuracy4 = np.mean(y_pred == y_test)\n",
    "print(\"Accuracy:\", accuracy4)\n",
    "scores = cross_val_score(svm, x_train, y_train, cv=5)\n",
    "print(\"Cross validation accuracy: %0.2f%% (+/- %0.2f%%)\" % (scores.mean() * 100, scores.std() * 2 * 100))"
   ]
  }
 ],
 "metadata": {
  "kernelspec": {
   "display_name": "Python 3",
   "language": "python",
   "name": "python3"
  },
  "language_info": {
   "codemirror_mode": {
    "name": "ipython",
    "version": 3
   },
   "file_extension": ".py",
   "mimetype": "text/x-python",
   "name": "python",
   "nbconvert_exporter": "python",
   "pygments_lexer": "ipython3",
   "version": "3.10.7"
  },
  "orig_nbformat": 4
 },
 "nbformat": 4,
 "nbformat_minor": 2
}
