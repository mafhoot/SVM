{
 "cells": [
  {
   "cell_type": "code",
   "execution_count": 34,
   "metadata": {},
   "outputs": [],
   "source": [
    "import numpy as np\n",
    "import matplotlib.pyplot as plt\n",
    "from matplotlib.image import imread\n",
    "from PIL import Image as im\n",
    "import numpy as np\n",
    "from sklearn.svm import SVC\n",
    "from sklearn.datasets._samples_generator import make_blobs\n",
    "import os\n",
    "from PIL import Image\n",
    "from sklearn import svm, metrics\n",
    "from sklearn.model_selection import cross_val_score\n",
    "from sklearn.model_selection import KFold\n"
   ]
  },
  {
   "cell_type": "code",
   "execution_count": 35,
   "metadata": {},
   "outputs": [],
   "source": [
    "# Set the directory containing the images\n",
    "\n",
    "train_directory = [\"../SVM/persian_LPR/2\",\"../SVM/persian_LPR/3\",\"../SVM/persian_LPR/7\",\"../SVM/persian_LPR/S\",\"../SVM/persian_LPR/W\"]\n",
    "test_values = [\"2\",\"3\",\"7\",\"S\",\"W\" ]\n",
    "\n",
    "\n",
    "# Create an empty list to store the image arrays\n",
    "x = []\n",
    "y = []"
   ]
  },
  {
   "cell_type": "code",
   "execution_count": 36,
   "metadata": {},
   "outputs": [],
   "source": [
    "# Loop through each image file in the directory\\\n",
    "temp = 0\n",
    "for foldername in train_directory :\n",
    "    for filename in os.listdir(foldername):\n",
    "        # Load the image using PIL\n",
    "        train_image = Image.open(os.path.join(foldername, filename))\n",
    "\n",
    "        # Convert the image to a NumPy array\n",
    "        train_image_array = np.array(train_image)\n",
    "\n",
    "        # Flatten the image array into a 256 element array\n",
    "        train_image_array = train_image_array.reshape(256)\n",
    "\n",
    "        # Add the image array to the list\n",
    "        x.append(train_image_array)\n",
    "        y.append(test_values[temp])\n",
    "    temp +=1\n",
    "y= np.array(y)\n",
    "# train = np.concatenate(x, y)\n"
   ]
  },
  {
   "cell_type": "code",
   "execution_count": 37,
   "metadata": {},
   "outputs": [],
   "source": [
    "from sklearn.model_selection import train_test_split\n",
    "x_train, x_test = train_test_split(x, test_size=0.2, random_state=42)\n",
    "y_train, y_test = train_test_split(y, test_size=0.2, random_state=42)"
   ]
  },
  {
   "cell_type": "markdown",
   "metadata": {},
   "source": [
    "Linear"
   ]
  },
  {
   "cell_type": "code",
   "execution_count": 38,
   "metadata": {},
   "outputs": [
    {
     "name": "stdout",
     "output_type": "stream",
     "text": [
      "Accuracy: 0.9533333333333334\n",
      "Cross validation accuracy: 94.58% (+/- 2.98%)\n"
     ]
    }
   ],
   "source": [
    "svm = SVC(kernel='linear' , C=100)\n",
    "svm.fit(x_train, y_train)\n",
    "y_pred = svm.predict(x_test)\n",
    "accuracy = np.mean(y_pred == y_test)\n",
    "print(\"Accuracy:\", accuracy)\n",
    "scores = cross_val_score(svm, x_train, y_train, cv=5)\n",
    "print(\"Cross validation accuracy: %0.2f%% (+/- %0.2f%%)\" % (scores.mean() * 100, scores.std() * 2 * 100))"
   ]
  },
  {
   "cell_type": "markdown",
   "metadata": {},
   "source": [
    "Sigmoid"
   ]
  },
  {
   "cell_type": "code",
   "execution_count": 39,
   "metadata": {},
   "outputs": [
    {
     "name": "stdout",
     "output_type": "stream",
     "text": [
      "Accuracy: 0.6066666666666667\n",
      "Cross validation accuracy: 57.58% (+/- 6.27%)\n"
     ]
    }
   ],
   "source": [
    "svm = SVC(kernel='sigmoid' , C=100)\n",
    "svm.fit(x_train, y_train)\n",
    "y_pred = svm.predict(x_test)\n",
    "accuracy = np.mean(y_pred == y_test)\n",
    "print(\"Accuracy:\", accuracy)\n",
    "scores = cross_val_score(svm, x_train, y_train, cv=5)\n",
    "print(\"Cross validation accuracy: %0.2f%% (+/- %0.2f%%)\" % (scores.mean() * 100, scores.std() * 2 * 100))"
   ]
  },
  {
   "cell_type": "markdown",
   "metadata": {},
   "source": [
    "Polynomial"
   ]
  },
  {
   "cell_type": "code",
   "execution_count": 40,
   "metadata": {},
   "outputs": [
    {
     "name": "stdout",
     "output_type": "stream",
     "text": [
      "Accuracy: 0.9633333333333334\n",
      "Cross validation accuracy: 96.33% (+/- 2.66%)\n"
     ]
    }
   ],
   "source": [
    "svm = SVC(kernel='poly' , C=100)\n",
    "svm.fit(x_train, y_train)\n",
    "y_pred = svm.predict(x_test)\n",
    "accuracy = np.mean(y_pred == y_test)\n",
    "print(\"Accuracy:\", accuracy)\n",
    "scores = cross_val_score(svm, x_train, y_train, cv=5)\n",
    "print(\"Cross validation accuracy: %0.2f%% (+/- %0.2f%%)\" % (scores.mean() * 100, scores.std() * 2 * 100))"
   ]
  },
  {
   "cell_type": "markdown",
   "metadata": {},
   "source": [
    "Radial basic function"
   ]
  },
  {
   "cell_type": "code",
   "execution_count": 41,
   "metadata": {},
   "outputs": [
    {
     "name": "stdout",
     "output_type": "stream",
     "text": [
      "Accuracy: 0.96\n",
      "Cross validation accuracy: 96.75% (+/- 2.20%)\n"
     ]
    }
   ],
   "source": [
    "svm = SVC(kernel='rbf' , C=100)\n",
    "svm.fit(x_train, y_train)\n",
    "y_pred = svm.predict(x_test)\n",
    "accuracy = np.mean(y_pred == y_test)\n",
    "print(\"Accuracy:\", accuracy)\n",
    "scores = cross_val_score(svm, x_train, y_train, cv=5)\n",
    "print(\"Cross validation accuracy: %0.2f%% (+/- %0.2f%%)\" % (scores.mean() * 100, scores.std() * 2 * 100))"
   ]
  }
 ],
 "metadata": {
  "kernelspec": {
   "display_name": "Python 3",
   "language": "python",
   "name": "python3"
  },
  "language_info": {
   "codemirror_mode": {
    "name": "ipython",
    "version": 3
   },
   "file_extension": ".py",
   "mimetype": "text/x-python",
   "name": "python",
   "nbconvert_exporter": "python",
   "pygments_lexer": "ipython3",
   "version": "3.10.7"
  },
  "orig_nbformat": 4
 },
 "nbformat": 4,
 "nbformat_minor": 2
}
